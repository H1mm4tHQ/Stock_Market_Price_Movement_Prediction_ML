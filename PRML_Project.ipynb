{
  "cells": [
    {
      "cell_type": "code",
      "execution_count": null,
      "metadata": {
        "id": "0FF7fB6oA5EV"
      },
      "outputs": [
        {
          "ename": "",
          "evalue": "",
          "output_type": "error",
          "traceback": [
            "\u001b[1;31mFailed to start the Kernel. \n",
            "\u001b[1;31mUnable to start Kernel 'myenv' due to a connection timeout. \n",
            "\u001b[1;31mView Jupyter <a href='command:jupyter.viewOutput'>log</a> for further details."
          ]
        }
      ],
      "source": [
        "import yfinance as yf\n",
        "import warnings\n",
        "\n",
        "# Ignore all warnings\n",
        "warnings.filterwarnings(\"ignore\")\n",
        "\n"
      ]
    },
    {
      "cell_type": "code",
      "execution_count": null,
      "metadata": {},
      "outputs": [],
      "source": [
        "print(\"Hello World\")"
      ]
    },
    {
      "cell_type": "code",
      "execution_count": null,
      "metadata": {
        "id": "MWWpmOOTBawo"
      },
      "outputs": [],
      "source": [
        "adani = yf.Ticker(\"ADANIENT.NS\")"
      ]
    },
    {
      "cell_type": "code",
      "execution_count": null,
      "metadata": {
        "colab": {
          "base_uri": "https://localhost:8080/"
        },
        "id": "YHGGh24iBhgG",
        "outputId": "bd64ebf3-ca9c-488e-f05f-7a1d48e9e6a3"
      },
      "outputs": [],
      "source": [
        "recent_data = yf.download(\"ADANIENT.NS\", period=\"16y\")\n"
      ]
    },
    {
      "cell_type": "code",
      "execution_count": null,
      "metadata": {
        "colab": {
          "base_uri": "https://localhost:8080/"
        },
        "id": "x3MbWeJQCBYG",
        "outputId": "a7a08a4f-71a4-4913-b9a3-8dbcc38c83d8"
      },
      "outputs": [],
      "source": [
        "print(recent_data.columns)\n",
        "recent_data.drop('Adj Close', axis=1, inplace=True)\n",
        "print(recent_data.columns)"
      ]
    },
    {
      "cell_type": "code",
      "execution_count": null,
      "metadata": {
        "colab": {
          "base_uri": "https://localhost:8080/",
          "height": 461
        },
        "id": "vW19Ek3UCKM9",
        "outputId": "21145a6f-7153-47c2-b397-3d2b90b9a936"
      },
      "outputs": [],
      "source": [
        "import matplotlib.pyplot as plt\n",
        "\n",
        "data = yf.download(\"ADANIENT.NS\", period='16y')\n",
        "data['Close'].plot()\n",
        "plt.title(\"ADANIENT Stock Prices\")\n",
        "plt.show()"
      ]
    },
    {
      "cell_type": "markdown",
      "metadata": {
        "id": "_xLkQuUWV3yL"
      },
      "source": [
        "# important"
      ]
    },
    {
      "cell_type": "code",
      "execution_count": null,
      "metadata": {
        "colab": {
          "base_uri": "https://localhost:8080/"
        },
        "id": "fQEJ-kY_WB5k",
        "outputId": "a6d96817-26f4-44f1-e40e-82e18b220525"
      },
      "outputs": [],
      "source": [
        "print(recent_data.columns)"
      ]
    },
    {
      "cell_type": "code",
      "execution_count": null,
      "metadata": {},
      "outputs": [],
      "source": [
        "print(recent_data)\n"
      ]
    },
    {
      "cell_type": "code",
      "execution_count": null,
      "metadata": {
        "colab": {
          "base_uri": "https://localhost:8080/"
        },
        "id": "Gh2TaskJV7SC",
        "outputId": "d60ae183-9dfb-45a6-bb2c-8c50d68affa6"
      },
      "outputs": [],
      "source": [
        "import pandas as pd\n",
        "import numpy as np\n",
        "\n",
        "# Assume 'stock_data' DataFrame contains open, high, low, close, and volume prices\n",
        "\n",
        "def calculate_macd(data, short_window=12, long_window=26, signal_window=9):\n",
        "    # Calculate short-term and long-term EMAs\n",
        "    short_ema = data['Close'].ewm(span=short_window, adjust=False).mean()\n",
        "    long_ema = data['Close'].ewm(span=long_window, adjust=False).mean()\n",
        "\n",
        "    # Calculate MACD line\n",
        "    macd_line = short_ema - long_ema\n",
        "\n",
        "    # Calculate signal line\n",
        "    signal_line = macd_line.ewm(span=signal_window, adjust=False).mean()\n",
        "\n",
        "    # Calculate MACD histogram\n",
        "    macd_histogram = macd_line - signal_line\n",
        "\n",
        "    return macd_line, signal_line, macd_histogram\n",
        "\n",
        "def calculate_rsi(data, window=14):\n",
        "    delta = data['Close'].diff(1)\n",
        "    gain = (delta.where(delta > 0, 0)).rolling(window=window).mean()\n",
        "    loss = (-delta.where(delta < 0, 0)).rolling(window=window).mean()\n",
        "    rs = gain / loss\n",
        "    rsi = 100 - (100 / (1 + rs))\n",
        "    return rsi\n",
        "\n",
        "def calculate_stochastic_oscillator(data, window=14):\n",
        "    low_min = data['Low'].rolling(window=window).min()\n",
        "    high_max = data['High'].rolling(window=window).max()\n",
        "    stochastic_k = ((data['Close'] - low_min) / (high_max - low_min)) * 100\n",
        "    stochastic_d = stochastic_k.rolling(window=3).mean()  # 3-day smoothing for %D line\n",
        "    return stochastic_k, stochastic_d\n",
        "\n",
        "def calculate_moving_averages(data, short_window=50, long_window=200):\n",
        "    # Calculate short-term and long-term moving averages\n",
        "    short_ma = data['Close'].rolling(window=short_window).mean()\n",
        "    long_ma = data['Close'].rolling(window=long_window).mean()\n",
        "    return short_ma, long_ma\n",
        "\n",
        "def calculate_volume_indicators(data, window=20):\n",
        "    # Calculate volume moving average\n",
        "    volume_ma = data['Volume'].rolling(window=window).mean()\n",
        "    # Calculate volume rate of change\n",
        "    volume_roc = data['Volume'].pct_change(window)\n",
        "    return volume_ma, volume_roc\n",
        "\n",
        "def calculate_volatility_indicators(data, window=20):\n",
        "    # Calculate Bollinger Bands\n",
        "    std_dev = data['Close'].rolling(window=window).std()\n",
        "    upper_band = data['Close'] + 2 * std_dev\n",
        "    lower_band = data['Close'] - 2 * std_dev\n",
        "    # Calculate Average True Range (ATR)\n",
        "    high_low_range = data['High'] - data['Low']\n",
        "    true_range = np.maximum(np.maximum((data['High'] - data['Low']).abs(), (data['High'] - data['Close'].shift()).abs()), (data['Low'] - data['Close'].shift()).abs())\n",
        "    atr = true_range.rolling(window=window).mean()\n",
        "    return upper_band, lower_band, atr\n",
        "\n",
        "def williams_percent_r(data, period=14):\n",
        "    high = data['High']\n",
        "    low = data['Low']\n",
        "    close = data['Close']\n",
        "\n",
        "    # Calculate %R\n",
        "    lowest_low = low.rolling(window=period).min()\n",
        "    highest_high = high.rolling(window=period).max()\n",
        "    percent_r = -100 * (highest_high - close) / (highest_high - lowest_low)\n",
        "\n",
        "    return percent_r\n",
        "\n",
        "# Calculate technical indicators\n",
        "macd_line, signal_line, macd_histogram = calculate_macd(recent_data)\n",
        "rsi = calculate_rsi(recent_data)\n",
        "stochastic_k, stochastic_d = calculate_stochastic_oscillator(recent_data)\n",
        "short_ma, long_ma = calculate_moving_averages(recent_data)\n",
        "volume_ma, volume_roc = calculate_volume_indicators(recent_data)\n",
        "upper_band, lower_band, atr = calculate_volatility_indicators(recent_data)\n",
        "\n",
        "# Add calculated indicators to the DataFrame\n",
        "recent_data['MACD_Line'] = macd_line\n",
        "recent_data['Signal_Line'] = signal_line\n",
        "recent_data['MACD_Histogram'] = macd_histogram\n",
        "recent_data['RSI'] = rsi\n",
        "recent_data['%K'] = stochastic_k\n",
        "recent_data['%D'] = stochastic_d\n",
        "recent_data['Short_MA'] = short_ma\n",
        "recent_data['Long_MA'] = long_ma\n",
        "recent_data['Volume_MA'] = volume_ma\n",
        "recent_data['Volume_ROC'] = volume_roc\n",
        "recent_data['Upper_Band'] = upper_band\n",
        "recent_data['Lower_Band'] = lower_band\n",
        "recent_data['ATR'] = atr\n",
        "recent_data['%R']=williams_percent_r(recent_data)\n",
        "\n",
        "# Print the DataFrame with calculated indicators\n",
        "print(recent_data.shape[0])\n"
      ]
    },
    {
      "cell_type": "code",
      "execution_count": null,
      "metadata": {
        "colab": {
          "base_uri": "https://localhost:8080/"
        },
        "id": "AP-meXNiWkHE",
        "outputId": "eed13e24-8780-48db-dea3-a47a9e780a0c"
      },
      "outputs": [],
      "source": [
        "# Assuming your DataFrame is named 'df'\n",
        "nan_percentage = (recent_data.isna().sum() / len(recent_data)) * 100\n",
        "print(\"Percentage of NaN values in each column:\")\n",
        "print(nan_percentage)\n"
      ]
    },
    {
      "cell_type": "code",
      "execution_count": null,
      "metadata": {
        "colab": {
          "base_uri": "https://localhost:8080/"
        },
        "id": "8bnfxWmN59Xp",
        "outputId": "61e8d374-7c76-400a-9363-b00353db2483"
      },
      "outputs": [],
      "source": [
        "# Drop rows where 'Long_MA' column has NaN values\n",
        "recent_data= recent_data.dropna(subset=['Long_MA'])\n",
        "\n",
        "# Check the DataFrame after dropping rows\n",
        "print(recent_data)\n",
        "\n",
        "# Calculate the percentage of NaN values in each column\n",
        "nan_percentage = (recent_data.isna().sum() / len(recent_data)) * 100\n",
        "print(\"Percentage of NaN values in each column:\")\n",
        "print(nan_percentage)\n"
      ]
    },
    {
      "cell_type": "code",
      "execution_count": null,
      "metadata": {},
      "outputs": [],
      "source": [
        "print(recent_data.shape[0])"
      ]
    },
    {
      "cell_type": "code",
      "execution_count": null,
      "metadata": {
        "colab": {
          "base_uri": "https://localhost:8080/"
        },
        "id": "qhLmnIz2XjlX",
        "outputId": "262e99e9-c6a9-4806-de46-8b3b0cfcec43"
      },
      "outputs": [],
      "source": [
        "# Calculate the difference between Close and Open prices\n",
        "# recent_data['Price_Move'] = np.where(recent_data['Close'] > recent_data['Open'], 1, -1)\n",
        "\n",
        "# Calculate the average difference in price over the next 5 days\n",
        "recent_data['Next_5_Days_Avg_Diff'] = recent_data['Close'].rolling(window=5).mean().shift(-5) - recent_data['Close']\n",
        "\n",
        "# Drop rows with NaN values in 'Next_5_Days_Avg_Diff'\n",
        "recent_data.dropna(subset=['Next_5_Days_Avg_Diff'], inplace=True)\n",
        "\n",
        "# Calculate the price move\n",
        "recent_data['Price_Move'] = np.where(recent_data['Next_5_Days_Avg_Diff'] > 0, 1, -1)\n",
        "\n",
        "# Determine buy/sell signals\n",
        "recent_data['Signal'] =0\n",
        "recent_data.loc[(recent_data['%K'] > recent_data['%D']) , 'Signal'] = 1  # Buy signal\n",
        "recent_data.loc[(recent_data['%K'] < recent_data['%D']) , 'Signal'] = -1  # Sell signal\n",
        "\n",
        "print(recent_data)\n",
        "# recent_data.drop(['Short_MA', 'Long_MA'], axis=1, inplace=True)\n",
        "future_data = recent_data.tail(100)\n",
        "recent_data = recent_data.iloc[:-100]\n",
        "print(recent_data.shape[0])\n",
        "print(future_data.shape[0])"
      ]
    },
    {
      "cell_type": "code",
      "execution_count": null,
      "metadata": {
        "colab": {
          "base_uri": "https://localhost:8080/",
          "height": 1000
        },
        "id": "6FUDutBN_GB1",
        "outputId": "558d2b58-b7cc-40ed-8350-686800da1fb9"
      },
      "outputs": [],
      "source": [
        "import pandas as pd\n",
        "import numpy as np\n",
        "import matplotlib.pyplot as plt\n",
        "\n",
        "# Assume 'recent_data' DataFrame contains the necessary columns including Close price and the calculated indicators\n",
        "\n",
        "# Plotting\n",
        "fig, axs = plt.subplots(nrows=7, ncols=1, figsize=(14, 20))\n",
        "\n",
        "# 1) Close price with MACD Line, Signal Line, and MACD Histogram\n",
        "axs[0].plot(recent_data.index, recent_data['Close'], label='Close Price', color='blue')\n",
        "axs[0].plot(recent_data.index, recent_data['MACD_Line'], label='MACD Line', color='red')\n",
        "axs[0].plot(recent_data.index, recent_data['Signal_Line'], label='Signal Line', color='green')\n",
        "# axs[0].bar(recent_data.index, recent_data['MACD_Histogram'], label='MACD Histogram', color='gray', alpha=0.5)\n",
        "axs[0].set_title('Close Price with MACD')\n",
        "axs[0].set_xlabel('Date')\n",
        "axs[0].set_ylabel('Value')\n",
        "axs[0].legend()\n",
        "\n",
        "# 2) Close price with RSI\n",
        "\n",
        "# axs[1].plot(recent_data.index, recent_data['Close'], label='Close Price', color='blue')\n",
        "axs[1].plot(recent_data.index, recent_data['RSI'], label='RSI', color='purple')\n",
        "\n",
        "# Add horizontal lines for overbought and oversold conditions\n",
        "axs[1].axhline(y=80, color='red', linestyle='--', label='Overbought (RSI = 80)')\n",
        "axs[1].axhline(y=20, color='green', linestyle='--', label='Oversold (RSI = 20)')\n",
        "\n",
        "axs[1].set_title('Close Price with RSI')\n",
        "axs[1].set_xlabel('Date')\n",
        "axs[1].set_ylabel('Value')\n",
        "axs[1].legend()\n",
        "\n",
        "# 3) Close price with %K and %D\n",
        "# axs[2].plot(recent_data.index, recent_data['Close'], label='Close Price', color='blue')\n",
        "axs[2].plot(recent_data.index, recent_data['%K'], label='%K', color='orange')\n",
        "axs[2].plot(recent_data.index, recent_data['%D'], label='%D', color='brown')\n",
        "axs[2].set_title('Close Price with %K and %D')\n",
        "axs[2].set_xlabel('Date')\n",
        "axs[2].set_ylabel('Value')\n",
        "axs[2].legend()\n",
        "\n",
        "# 4) Close price with Short MA and Long MA\n",
        "axs[3].plot(recent_data.index, recent_data['Close'], label='Close Price', color='blue')\n",
        "axs[3].plot(recent_data.index, recent_data['Short_MA'], label='Short MA', color='magenta')\n",
        "axs[3].plot(recent_data.index, recent_data['Long_MA'], label='Long MA', color='cyan')\n",
        "axs[3].set_title('Close Price with Short MA and Long MA')\n",
        "axs[3].set_xlabel('Date')\n",
        "axs[3].set_ylabel('Value')\n",
        "axs[3].legend()\n",
        "\n",
        "# 5) Close price with Volume MA and Volume ROC\n",
        "# axs[4].plot(recent_data.index, recent_data['Close'], label='Close Price', color='blue')\n",
        "# axs[4].plot(recent_data.index, recent_data['Volume_MA'], label='Volume MA', color='pink')\n",
        "axs[4].plot(recent_data.index, recent_data['Volume_ROC'], label='Volume ROC', color='olive')\n",
        "axs[4].set_title('Close Price with Volume MA and Volume ROC')\n",
        "axs[4].set_xlabel('Date')\n",
        "axs[4].set_ylabel('Value')\n",
        "axs[4].legend()\n",
        "\n",
        "# 6) Close price with Upper Band, Lower Band, and ATR\n",
        "axs[5].plot(recent_data.index, recent_data['Close'], label='Close Price', color='blue')\n",
        "axs[5].plot(recent_data.index, recent_data['Upper_Band'], label='Upper Band', color='navy')\n",
        "axs[5].plot(recent_data.index, recent_data['Lower_Band'], label='Lower Band', color='lime')\n",
        "axs[5].plot(recent_data.index, recent_data['ATR'], label='ATR', color='teal')\n",
        "axs[5].set_title('Close Price with Bollinger Bands and ATR')\n",
        "axs[5].set_xlabel('Date')\n",
        "axs[5].set_ylabel('Value')\n",
        "axs[5].legend()\n",
        "\n",
        "\n",
        "# Plotting Williams %R\n",
        "axs[6].plot(recent_data.index, recent_data['%R'], label='Williams %R', color='blue')\n",
        "axs[6].axhline(y=-20, color='red', linestyle='--', label='Overbought (%R = -20)')\n",
        "axs[6].axhline(y=-80, color='green', linestyle='--', label='Oversold (%R = -80)')\n",
        "axs[6].set_title('Williams %R Indicator')\n",
        "axs[6].set_xlabel('Date')\n",
        "axs[6].set_ylabel('%R Value')\n",
        "axs[6].legend()\n",
        "# axs[6].grid(True)\n",
        "\n",
        "\n",
        "plt.tight_layout()\n",
        "plt.show()\n"
      ]
    },
    {
      "cell_type": "markdown",
      "metadata": {},
      "source": [
        "cross section for macd and signal line"
      ]
    },
    {
      "cell_type": "code",
      "execution_count": null,
      "metadata": {
        "colab": {
          "base_uri": "https://localhost:8080/"
        },
        "id": "A8mL3A6tCoP-",
        "outputId": "c57d6923-08af-4928-e58f-affee5ee8e2b"
      },
      "outputs": [],
      "source": [
        "import pandas as pd\n",
        "import numpy as np\n",
        "\n",
        "# Assume 'recent_data' DataFrame contains the necessary columns including Close price, MACD_Line, Signal_Line, and Price_Move\n",
        "\n",
        "# Initialize lists to store labels and targets\n",
        "above_labels = []\n",
        "below_labels = []\n",
        "above_targets = []\n",
        "below_targets = []\n",
        "\n",
        "# Identify crossover points\n",
        "for i in range(1, len(recent_data)):\n",
        "    if recent_data['MACD_Line'][i] > recent_data['Signal_Line'][i] and recent_data['MACD_Line'][i - 1] <= recent_data['Signal_Line'][i - 1]:\n",
        "        above_labels.append('MACD Line crossed above Signal Line')\n",
        "        above_targets.append(recent_data['Price_Move'][i])\n",
        "    elif recent_data['MACD_Line'][i] < recent_data['Signal_Line'][i] and recent_data['MACD_Line'][i - 1] >= recent_data['Signal_Line'][i - 1]:\n",
        "        below_labels.append('MACD Line crossed below Signal Line')\n",
        "        below_targets.append(recent_data['Price_Move'][i])\n",
        "\n"
      ]
    },
    {
      "cell_type": "code",
      "execution_count": null,
      "metadata": {
        "colab": {
          "base_uri": "https://localhost:8080/"
        },
        "id": "5VyZRKvGFY4u",
        "outputId": "2d2d9d93-be9f-4ea8-d220-d36be1fd043a"
      },
      "outputs": [],
      "source": [
        "# Filter targets for label 1 occurrences in crosses above\n",
        "percent_above_label_1 = (above_targets.count(1) / len(above_targets)) * 100\n",
        "# Filter targets for label -1 occurrences in crosses below\n",
        "percent_below_label_minus_1 = (below_targets.count(-1) / len(below_targets)) * 100\n",
        "\n",
        "print(f\"Percentage of label 1 occurrences in above target: {percent_above_label_1:.2f}%\")\n",
        "print(f\"Percentage of label -1 occurrences in below target: {percent_below_label_minus_1:.2f}%\")\n",
        "print(\"Number of samples {:.2f}%\".format((len(above_targets) + len(below_targets)) / recent_data.shape[0] * 100))\n"
      ]
    },
    {
      "cell_type": "code",
      "execution_count": null,
      "metadata": {
        "colab": {
          "base_uri": "https://localhost:8080/"
        },
        "id": "ie2wJd-LWv06",
        "outputId": "ab3c70a9-e7c7-4682-ec4e-28007bd05ef3"
      },
      "outputs": [],
      "source": [
        "# Assuming 'macd_line' and 'signal_line' are lists containing MACD line and signal line values\n",
        "# Assuming 'crossed' is a boolean indicating whether the MACD line and signal line have crossed or not\n",
        "\n",
        "# Define targets for label 1 (Up Wave) and label -1 (Down Wave)\n",
        "targets = []  # Initialize empty list for targets\n",
        "for i in range(len(macd_line)):\n",
        "    if macd_line[i] > signal_line[i]:\n",
        "        targets.append(1)  # Label 1 for MACD line above signal line (Up Wave)\n",
        "    elif macd_line[i] < signal_line[i]:\n",
        "        targets.append(-1)  # Label -1 for MACD line below signal line (Down Wave)\n",
        "    else:\n",
        "        targets.append(0)  # Label 0 for no cross\n",
        "\n",
        "# Filter targets based on whether the MACD line and signal line have crossed or not\n",
        "not_crossed_targets = [target for target in targets if target == 1 or target == -1]\n",
        "\n",
        "# Calculate the percentages of label 1 and label -1 occurrences in the filtered targets\n",
        "percent_label_1 = (not_crossed_targets.count(1) / len(not_crossed_targets)) * 100\n",
        "percent_label_minus_1 = (not_crossed_targets.count(-1) / len(not_crossed_targets)) * 100\n",
        "\n",
        "print(f\"Percentage of label 1 occurrences when MACD line and signal line do not cross: {percent_label_1:.2f}%\")\n",
        "print(f\"Percentage of label -1 occurrences when MACD line and signal line do not cross: {percent_label_minus_1:.2f}%\")\n"
      ]
    },
    {
      "cell_type": "markdown",
      "metadata": {},
      "source": [
        "rsi value crosschecking"
      ]
    },
    {
      "cell_type": "code",
      "execution_count": null,
      "metadata": {
        "colab": {
          "base_uri": "https://localhost:8080/"
        },
        "id": "fC7u16btfkRs",
        "outputId": "18827fe0-0e0b-4ab8-a550-4d78201d9b54"
      },
      "outputs": [],
      "source": [
        "# Initialize counters\n",
        "overbought_count = 0\n",
        "oversold_count = 0\n",
        "total_overbought = 0\n",
        "total_oversold = 0\n",
        "\n",
        "# Iterate through the DataFrame\n",
        "for index, row in recent_data.iterrows():\n",
        "    if row['RSI'] > 80:\n",
        "        total_overbought += 1\n",
        "        if row['Price_Move'] == 1:\n",
        "            overbought_count += 1\n",
        "    elif row['RSI'] < 20:\n",
        "        total_oversold += 1\n",
        "        if row['Price_Move'] == -1:\n",
        "            oversold_count += 1\n",
        "\n",
        "# Calculate percentages\n",
        "overbought_percentage = (overbought_count / total_overbought) * 100 if total_overbought > 0 else 0\n",
        "oversold_percentage = (oversold_count / total_oversold) * 100 if total_oversold > 0 else 0\n",
        "\n",
        "print(\"Percentage of movement being 1 when RSI is above 80:\", overbought_percentage)\n",
        "print(\"Percentage of movement being -1 when RSI is below 20:\", oversold_percentage)\n",
        "print(\"Number of samples: {:.2f}%\".format((total_overbought + total_oversold) / recent_data.shape[0] * 100))\n"
      ]
    },
    {
      "cell_type": "code",
      "execution_count": null,
      "metadata": {
        "colab": {
          "base_uri": "https://localhost:8080/"
        },
        "id": "TbHTFMB_gQML",
        "outputId": "b3f7674c-c35a-46ee-9492-261f7e97e458"
      },
      "outputs": [],
      "source": [
        "import pandas as pd\n",
        "\n",
        "# Define the bins for RSI values\n",
        "bins = [0, 20, 50, 80, 100]\n",
        "\n",
        "# Define the labels for the bins\n",
        "labels = ['<20', '20-50', '50-80', '>80']\n",
        "\n",
        "# Create a new column 'RSI_Bin' to categorize RSI values into bins\n",
        "recent_data['RSI_Bin'] = pd.cut(recent_data['RSI'], bins=bins, labels=labels, right=False)\n",
        "\n",
        "# Group by 'RSI_Bin' and calculate the percentage of price movements\n",
        "percentage_price_move = recent_data.groupby(['RSI_Bin', 'Price_Move']).size() / recent_data.groupby('RSI_Bin').size() * 100\n",
        "\n",
        "# Print the results\n",
        "print(\"Percentage of price movement:\")\n",
        "print(percentage_price_move)\n"
      ]
    },
    {
      "cell_type": "markdown",
      "metadata": {},
      "source": [
        "%k and %d"
      ]
    },
    {
      "cell_type": "code",
      "execution_count": null,
      "metadata": {
        "colab": {
          "base_uri": "https://localhost:8080/"
        },
        "id": "ncrh2CrBFJ-L",
        "outputId": "1bf52acf-9ca8-464b-ba01-5a88d56060dc"
      },
      "outputs": [],
      "source": [
        "# Calculate percentage of 1s and -1s when %K is higher than %D and when %K is lower than %D\n",
        "def calculate_percentage(recent_data):\n",
        "    # Filter rows where %K is higher than %D\n",
        "    bullish_df = recent_data[recent_data['%K'] > recent_data['%D']]\n",
        "\n",
        "    # Calculate percentage of 1s in price_move when %K is higher than %D\n",
        "    bullish_percentage = (bullish_df['Price_Move'] == 1).sum() / len(bullish_df) * 100\n",
        "\n",
        "    # Filter rows where %K is lower than %D\n",
        "    bearish_df = recent_data[recent_data['%K'] < recent_data['%D']]\n",
        "\n",
        "    # Calculate percentage of -1s in price_move when %K is lower than %D\n",
        "    bearish_percentage = (bearish_df['Price_Move'] == -1).sum() / len(bearish_df) * 100\n",
        "    print(\"number od samples \" + str(len(bullish_df)+len(bearish_df)))\n",
        "    return bullish_percentage, bearish_percentage\n",
        "\n",
        "# Example usage\n",
        "bullish_percentage, bearish_percentage = calculate_percentage(recent_data)\n",
        "print(\"Percentage of 1s when %K > %D:\", bullish_percentage)\n",
        "print(\"Percentage of -1s when %K < %D:\", bearish_percentage)\n"
      ]
    },
    {
      "cell_type": "markdown",
      "metadata": {},
      "source": [
        "bollinger band"
      ]
    },
    {
      "cell_type": "code",
      "execution_count": null,
      "metadata": {
        "colab": {
          "base_uri": "https://localhost:8080/"
        },
        "id": "wEc7o78twhJ3",
        "outputId": "e72a053d-5917-4690-a34e-189728f54e58"
      },
      "outputs": [],
      "source": [
        "print(recent_data.columns)\n",
        "\n",
        "# Function to analyze the effectiveness of volatility indicators\n",
        "def analyze_volatility_indicators(data, threshold=15):\n",
        "    # Calculate volatility indicators\n",
        "    upper_band, lower_band, atr = calculate_volatility_indicators(data)\n",
        "\n",
        "    # Calculate the difference between close price and upper/lower bands\n",
        "    diff_upper = data['Close'] - upper_band.shift(-1)\n",
        "    diff_lower = lower_band.shift(-1) - data['Close']\n",
        "\n",
        "    # Check conditions based on the threshold\n",
        "    condition_1 = diff_upper > threshold\n",
        "    condition_minus_1 = diff_lower > threshold\n",
        "\n",
        "    # Count occurrences of 1 and -1 based on conditions\n",
        "    count_1 = data.loc[condition_1, 'Price_Move'].sum()\n",
        "    count_minus_1 = data.loc[condition_minus_1, 'Price_Move'].sum()\n",
        "\n",
        "    # Calculate total occurrences\n",
        "    total_1 = condition_1.sum()\n",
        "    total_minus_1 = condition_minus_1.sum()\n",
        "\n",
        "    # Compute percentages\n",
        "    percentage_1 = (count_1 / total_1) * 100\n",
        "    percentage_minus_1 = (count_minus_1 / total_minus_1) * 100\n",
        "\n",
        "    return percentage_1, percentage_minus_1\n",
        "\n",
        "# Analyze the effectiveness of volatility indicators\n",
        "percentage_1, percentage_minus_1 = analyze_volatility_indicators(recent_data)\n",
        "\n",
        "# Print results\n",
        "print(f\"Percentage of 1s when price moves above Upper Band: {percentage_1:.2f}%\")\n",
        "print(f\"Percentage of -1s when price moves below Lower Band: {percentage_minus_1:.2f}%\")"
      ]
    },
    {
      "cell_type": "code",
      "execution_count": null,
      "metadata": {
        "colab": {
          "base_uri": "https://localhost:8080/"
        },
        "id": "WxXnoWkb-3r6",
        "outputId": "d21b872b-af7d-4e4f-b0a5-5491090c771e"
      },
      "outputs": [],
      "source": [
        "import pandas as pd\n",
        "import numpy as np\n",
        "\n",
        "# Function to generate trading signals and calculate percentages\n",
        "def generate_signals(data, window=20, deviation=2):\n",
        "    # Calculate Bollinger Bands\n",
        "    rolling_mean = data['Close'].rolling(window=window).mean()\n",
        "    rolling_std = data['Close'].rolling(window=window).std()\n",
        "    upper_band = rolling_mean + deviation * rolling_std\n",
        "    lower_band = rolling_mean - deviation * rolling_std\n",
        "\n",
        "    # Initialize signal column\n",
        "    data['Custom_Signal'] = 0\n",
        "\n",
        "    # Generate signals\n",
        "    for i in range(1, len(data)):\n",
        "        if data['Close'][i] > upper_band[i-1]:\n",
        "            data['Custom_Signal'][i] = 1  # Buy signal (price above upper band)\n",
        "        elif data['Close'][i] < lower_band[i-1]:\n",
        "            data['Custom_Signal'][i] = -1  # Sell signal (price below lower band)\n",
        "\n",
        "    # Calculate percentages\n",
        "    total_signals = len(data)\n",
        "    count_buy_signals = data[data['Custom_Signal'] == 1]['Custom_Signal'].count()\n",
        "    count_sell_signals = data[data['Custom_Signal'] == -1]['Custom_Signal'].count()\n",
        "    percentage_buy_signals = (count_buy_signals / total_signals) * 100\n",
        "    percentage_sell_signals = (count_sell_signals / total_signals) * 100\n",
        "\n",
        "    return data, percentage_buy_signals, percentage_sell_signals\n",
        "\n",
        "# Sample data (replace this with your own data)\n",
        "# recent_data = ...\n",
        "\n",
        "# Generate signals and calculate percentages\n",
        "recent_data, percentage_buy, percentage_sell = generate_signals(recent_data)\n",
        "\n",
        "# Print percentages\n",
        "print(f\"Percentage of Buy Signals (1s): {percentage_buy:.2f}%\")\n",
        "print(f\"Percentage of Sell Signals (-1s): {percentage_sell:.2f}%\")\n"
      ]
    },
    {
      "cell_type": "markdown",
      "metadata": {},
      "source": [
        "%r"
      ]
    },
    {
      "cell_type": "code",
      "execution_count": null,
      "metadata": {
        "colab": {
          "base_uri": "https://localhost:8080/"
        },
        "id": "pF5adkonnZdS",
        "outputId": "4c826410-5cd4-4430-f714-ce0ebe405667"
      },
      "outputs": [],
      "source": [
        "import pandas as pd\n",
        "\n",
        "# Define the bins for %R Williams values\n",
        "bins = [-100, -80, -50, -20, 0]\n",
        "\n",
        "# Define the labels for the bins\n",
        "labels = ['<-80', '-80 to -50', '-50 to -20', '> -20']\n",
        "\n",
        "# Create a new column '%R_Bin' to categorize %R Williams values into bins\n",
        "recent_data['%R_Bin'] = pd.cut(recent_data['%R'], bins=bins, labels=labels, right=False)\n",
        "\n",
        "# Group by '%R_Bin' and calculate the percentage of price movements\n",
        "percentage_price_move = recent_data.groupby(['%R_Bin', 'Price_Move']).size() / recent_data.groupby('%R_Bin').size() * 100\n",
        "\n",
        "# Print the results\n",
        "print(\"Percentage of price movement:\")\n",
        "print(percentage_price_move)\n"
      ]
    },
    {
      "cell_type": "code",
      "execution_count": null,
      "metadata": {},
      "outputs": [],
      "source": [
        "from sklearn.preprocessing import StandardScaler\n",
        "import seaborn as sns\n",
        "# Extract the features to be normalized\n",
        "features_to_normalize = ['MACD_Histogram', 'RSI', '%K', '%D', 'ATR', '%R']\n",
        "\n",
        "# Create a StandardScaler object\n",
        "scaler = StandardScaler()\n",
        "\n",
        "# Normalize the selected features\n",
        "normalized_features = scaler.fit_transform(recent_data[features_to_normalize])\n",
        "\n",
        "# Replace the original features with the normalized ones in your dataset\n",
        "recent_data[features_to_normalize] = normalized_features\n",
        "normalized_data=recent_data[features_to_normalize] \n",
        "# Add 'price_move' to the DataFrame of normalized features\n",
        "normalized_data['Price_Move'] = recent_data['Price_Move']\n",
        "\n",
        "# Create pairwise plots\n",
        "sns.pairplot(normalized_data, hue='Price_Move', diag_kind='kde')\n",
        "plt.show()"
      ]
    },
    {
      "cell_type": "code",
      "execution_count": null,
      "metadata": {},
      "outputs": [],
      "source": [
        "# Compute the correlation matrix\n",
        "non_tar_data=normalized_data.drop('Price_Move',axis=1)\n",
        "correlation_matrix = non_tar_data.corr()\n",
        "\n",
        "# Plot the correlation matrix\n",
        "plt.figure(figsize=(10, 8))\n",
        "sns.heatmap(correlation_matrix, annot=True, cmap='coolwarm', fmt=\".2f\")\n",
        "plt.title('Correlation Matrix of Normalized Features')\n",
        "plt.show()\n"
      ]
    },
    {
      "cell_type": "code",
      "execution_count": null,
      "metadata": {},
      "outputs": [],
      "source": [
        "# # Calculate correlation matrix\n",
        "# correlation_matrix = normalized_features_df.corr()\n",
        "\n",
        "# # Plot heatmap of correlation matrix\n",
        "# plt.figure(figsize=(12, 8))\n",
        "# sns.heatmap(correlation_matrix, annot=True, cmap='coolwarm', fmt=\".2f\", linewidths=0.5)\n",
        "# plt.title('Correlation Matrix')\n",
        "# plt.show()\n",
        "# # 0-0.3 weak correlation , 0.3-0.7 modeate correlation , 0.7-1 strong relation "
      ]
    },
    {
      "cell_type": "code",
      "execution_count": null,
      "metadata": {},
      "outputs": [],
      "source": [
        "print(recent_data)"
      ]
    },
    {
      "cell_type": "markdown",
      "metadata": {
        "id": "L534UYfZAPIR"
      },
      "source": [
        "### Classifier"
      ]
    },
    {
      "cell_type": "code",
      "execution_count": null,
      "metadata": {},
      "outputs": [],
      "source": [
        "from sklearn.model_selection import train_test_split\n",
        "from sklearn.ensemble import RandomForestClassifier\n",
        "from sklearn.metrics import accuracy_score\n",
        "\n",
        "features = ['MACD_Histogram', 'RSI', '%K', '%D', '%R']\n",
        "\n",
        "X = recent_data[features]\n",
        "y = recent_data['Price_Move']\n",
        "\n",
        "# Split the data into training and testing sets\n",
        "# X_train, X_test, y_train, y_test = train_test_split(X, y, test_size=0.4, random_state=42)\n",
        "# Initialize Random Forest classifier\n",
        "classifier = RandomForestClassifier()\n",
        "slice=int(0.6*(len(X)))\n",
        "X_train= X[:slice]\n",
        "y_train= y[:slice]\n",
        "X_test= X[slice:]\n",
        "y_test= y[slice:]\n",
        "# Train the classifier on the training data\n",
        "classifier.fit(X_train, y_train)\n",
        "\n",
        "# Make predictions on the testing data\n",
        "predict= classifier.predict(X_test)\n",
        "\n",
        "# Calculate accuracy\n",
        "accuracy = accuracy_score(y_test, predict)\n",
        "print(\"Accuracy:\", accuracy)"
      ]
    },
    {
      "cell_type": "code",
      "execution_count": null,
      "metadata": {},
      "outputs": [],
      "source": [
        "future_data[features]\n",
        "future_predictions = classifier.predict(future_data[features])\n",
        "\n",
        "count = sum(future_predictions[i] == future_data['Price_Move'][i] for i in range(len(future_predictions)))\n",
        "print(count/future_data.shape[0])"
      ]
    },
    {
      "cell_type": "code",
      "execution_count": null,
      "metadata": {
        "id": "IAsO51M9ex8i"
      },
      "outputs": [],
      "source": [
        "# Reset warnings to default behavior\n",
        "warnings.resetwarnings()"
      ]
    }
  ],
  "metadata": {
    "colab": {
      "provenance": []
    },
    "kernelspec": {
      "display_name": ".venv",
      "language": "python",
      "name": "python3"
    },
    "language_info": {
      "codemirror_mode": {
        "name": "ipython",
        "version": 3
      },
      "file_extension": ".py",
      "mimetype": "text/x-python",
      "name": "python",
      "nbconvert_exporter": "python",
      "pygments_lexer": "ipython3",
      "version": "3.8.10"
    }
  },
  "nbformat": 4,
  "nbformat_minor": 0
}
